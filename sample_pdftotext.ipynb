{
  "cells": [
    {
      "cell_type": "code",
      "execution_count": 1,
      "metadata": {
        "colab": {
          "base_uri": "https://localhost:8080/"
        },
        "id": "wWEzsIMvgrgl",
        "outputId": "d860ffc3-0c15-46af-f9b2-1bb350060f17"
      },
      "outputs": [
        {
          "output_type": "stream",
          "name": "stdout",
          "text": [
            "Collecting PyMuPDF\n",
            "  Downloading PyMuPDF-1.24.10-cp310-none-manylinux2014_x86_64.whl.metadata (3.4 kB)\n",
            "Collecting PyMuPDFb==1.24.10 (from PyMuPDF)\n",
            "  Downloading PyMuPDFb-1.24.10-py3-none-manylinux2014_x86_64.manylinux_2_17_x86_64.whl.metadata (1.4 kB)\n",
            "Downloading PyMuPDF-1.24.10-cp310-none-manylinux2014_x86_64.whl (3.5 MB)\n",
            "\u001b[2K   \u001b[90m━━━━━━━━━━━━━━━━━━━━━━━━━━━━━━━━━━━━━━━━\u001b[0m \u001b[32m3.5/3.5 MB\u001b[0m \u001b[31m15.4 MB/s\u001b[0m eta \u001b[36m0:00:00\u001b[0m\n",
            "\u001b[?25hDownloading PyMuPDFb-1.24.10-py3-none-manylinux2014_x86_64.manylinux_2_17_x86_64.whl (15.9 MB)\n",
            "\u001b[2K   \u001b[90m━━━━━━━━━━━━━━━━━━━━━━━━━━━━━━━━━━━━━━━━\u001b[0m \u001b[32m15.9/15.9 MB\u001b[0m \u001b[31m17.9 MB/s\u001b[0m eta \u001b[36m0:00:00\u001b[0m\n",
            "\u001b[?25hInstalling collected packages: PyMuPDFb, PyMuPDF\n",
            "Successfully installed PyMuPDF-1.24.10 PyMuPDFb-1.24.10\n"
          ]
        }
      ],
      "source": [
        "!pip install PyMuPDF"
      ]
    },
    {
      "cell_type": "code",
      "source": [
        "from google.colab import drive\n",
        "drive.mount('/content/drive')"
      ],
      "metadata": {
        "colab": {
          "base_uri": "https://localhost:8080/"
        },
        "id": "DOL_kFlzP3Oc",
        "outputId": "863c8484-a497-422b-a840-b973c266cfc1"
      },
      "execution_count": 2,
      "outputs": [
        {
          "output_type": "stream",
          "name": "stdout",
          "text": [
            "Mounted at /content/drive\n"
          ]
        }
      ]
    },
    {
      "cell_type": "code",
      "source": [
        "import fitz  # PyMuPDF\n",
        "import re\n",
        "import os\n",
        "\n",
        "# Googole Colab\n",
        "# PDFファイルを格納しているフォルダを指定してください\n",
        "folder_path = \"/content/drive/MyDrive/Colab Notebooks/GENIAC/pdftotext/pdf/\"\n",
        "\n",
        "# 検証に利用したPDFはこちらです\n",
        "# 産業・労働分野に求められるマインドフルネスプログラムの検討\n",
        "# https://www.jstage.jst.go.jp/article/jjm/7/1/7_71_5/_pdf/-char/ja\n",
        "#\n",
        "# 国立科学博物館所蔵ヤマイヌ剥製標本はニホンオオカミ Canis lupus hodophilax か?\n",
        "# https://www.jstage.jst.go.jp/article/bnmnszool/50/1/50_33/_pdf/-char/ja\n",
        "#\n",
        "# 2眼立体視型網膜投影ディスプレイ\n",
        "# https://www.jstage.jst.go.jp/article/sanjigen/8/0/8_103/_pdf/-char/ja"
      ],
      "metadata": {
        "id": "EQhQvrHYApj2"
      },
      "execution_count": 3,
      "outputs": []
    },
    {
      "cell_type": "code",
      "source": [
        "# フォルダ内のすべてのファイルとディレクトリを取得\n",
        "all_items = os.listdir(folder_path)\n",
        "\n",
        "# PDFファイルのみをフィルタリング\n",
        "pdf_files = [item for item in all_items if item.lower().endswith('.pdf')]\n",
        "\n",
        "# PDFファイルの数を取得\n",
        "file_count = len(pdf_files)\n",
        "\n",
        "print(f\"合計PDFファイル数: {file_count}\")"
      ],
      "metadata": {
        "colab": {
          "base_uri": "https://localhost:8080/"
        },
        "id": "C_a1yTn1ShAd",
        "outputId": "08cd0e19-59eb-4246-f274-0d2b87be254a"
      },
      "execution_count": 4,
      "outputs": [
        {
          "output_type": "stream",
          "name": "stdout",
          "text": [
            "合計PDFファイル数: 3\n"
          ]
        }
      ]
    },
    {
      "cell_type": "code",
      "source": [
        "for pdf_file in pdf_files:\n",
        "  file_path = os.path.join(folder_path, pdf_file)\n",
        "  print(f\"--- 処理中のPDFファイル: {pdf_file}\")\n",
        "\n",
        "  doc = fitz.open(file_path)\n",
        "\n",
        "  for page in doc:\n",
        "    text = []\n",
        "    text = page.get_text(\"text\")\n",
        "    text = re.sub('\\n', '', text)\n",
        "    text = re.sub('\\u3000', '', text)\n",
        "\n",
        "    print(\"======= text\")\n",
        "    print(text)\n",
        "\n",
        "    print(\"======= blocks\")\n",
        "    blocks = page.get_text(\"blocks\")\n",
        "    text_blocks = []\n",
        "    # for block in blocks[1:-1]:\n",
        "    for block in blocks:\n",
        "      block_4 = block[4]\n",
        "      block_4 = re.sub('\\n', '', block_4)\n",
        "      block_4 = re.sub('\\u3000', '', block_4)\n",
        "\n",
        "      if len(block_4) > 10:\n",
        "        print(block_4)\n",
        "        text_blocks.append(block_4)\n",
        "\n",
        "    print(\"======= text using blocks\")\n",
        "    text_blocks = ''.join(text_blocks)\n",
        "    print(text_blocks)\n",
        "\n",
        "  doc.close()"
      ],
      "metadata": {
        "id": "V2IagfpISuYm"
      },
      "execution_count": null,
      "outputs": []
    },
    {
      "cell_type": "code",
      "source": [],
      "metadata": {
        "id": "p9YyZjwmtBpH"
      },
      "execution_count": 5,
      "outputs": []
    }
  ],
  "metadata": {
    "colab": {
      "provenance": []
    },
    "kernelspec": {
      "display_name": "Python 3",
      "name": "python3"
    },
    "language_info": {
      "name": "python"
    }
  },
  "nbformat": 4,
  "nbformat_minor": 0
}